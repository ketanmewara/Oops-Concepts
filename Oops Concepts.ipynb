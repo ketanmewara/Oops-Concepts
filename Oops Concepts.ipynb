{
 "cells": [
  {
   "cell_type": "markdown",
   "id": "9eacdb9e-db62-4efd-835b-1abb6533abf3",
   "metadata": {},
   "source": [
    "# Class\n",
    "In object-oriented programming (OOP), a class is a blueprint for creating objects (a particular data structure), providing initial values for state (member variables or attributes), and implementations of behavior (member functions or methods). An object is an instance of a class.\n",
    "\n",
    "For example, let's say we have a class called \"Car\". This class might have member variables to represent the make, model, and year of the car, as well as member functions to start the engine, accelerate, and brake.\n",
    "\n",
    "# Object\n",
    "\n",
    "Object is real world entity."
   ]
  },
  {
   "cell_type": "code",
   "execution_count": 1,
   "id": "a4550832",
   "metadata": {},
   "outputs": [],
   "source": [
    "class Car:\n",
    "    def __init__(self, make, model, year):\n",
    "        self.make = make\n",
    "        self.model = model\n",
    "        self.year = year\n",
    "        \n",
    "    def start_engine(self):\n",
    "        print(f\"{self.make} {self.model} engine started.\")\n",
    "        \n",
    "    def accelerate(self):\n",
    "        print(f\"{self.make} {self.model} is accelerating.\")\n",
    "        \n",
    "    def brake(self):\n",
    "        print(f\"{self.make} {self.model} is braking.\")"
   ]
  },
  {
   "cell_type": "markdown",
   "id": "5a91c7ef",
   "metadata": {},
   "source": [
    "We can create an object of the class \"Car\" by calling the class name and passing the required arguments to the __init__ method."
   ]
  },
  {
   "cell_type": "code",
   "execution_count": 2,
   "id": "ef831af6",
   "metadata": {},
   "outputs": [],
   "source": [
    "my_car = Car(\"Toyota\", \"Camry\", 2020)"
   ]
  },
  {
   "cell_type": "markdown",
   "id": "bf50d6c4",
   "metadata": {},
   "source": [
    "Now my_car is an object of the class \"Car\". We can access the member variables and call the member functions of the class using the object of the class."
   ]
  },
  {
   "cell_type": "code",
   "execution_count": 3,
   "id": "6daf9f15",
   "metadata": {},
   "outputs": [
    {
     "name": "stdout",
     "output_type": "stream",
     "text": [
      "Toyota\n",
      "Toyota Camry engine started.\n",
      "Toyota Camry is accelerating.\n",
      "Toyota Camry is braking.\n"
     ]
    }
   ],
   "source": [
    "print(my_car.make) # Output: \"Toyota\"\n",
    "my_car.start_engine() # Output: \"Toyota Camry engine started.\"\n",
    "my_car.accelerate() # Output: \"Toyota Camry is accelerating.\"\n",
    "my_car.brake() # Output: \"Toyota Camry is braking.\""
   ]
  },
  {
   "cell_type": "markdown",
   "id": "63583c6e",
   "metadata": {},
   "source": [
    "In this example, the class Car is a blueprint for creating objects, and my_car is an object of the class Car."
   ]
  },
  {
   "cell_type": "markdown",
   "id": "05cfeeb0",
   "metadata": {},
   "source": [
    "# ATM System"
   ]
  },
  {
   "cell_type": "code",
   "execution_count": 33,
   "id": "0655d2a6-90d5-4e11-886c-7659ae684e3f",
   "metadata": {},
   "outputs": [],
   "source": [
    "## class name pascal case - HelloWorld\n",
    "class Atm:\n",
    "    \n",
    "    # constructor\n",
    "    def __init__(self):\n",
    "        self.pin = ''\n",
    "        self.balance = 0\n",
    "        self.menu()\n",
    "        \n",
    "    def menu(self):\n",
    "        user_input = input(\"\"\"\n",
    "        Hi How can i help you?\n",
    "        1. Enter 1 to create pin\n",
    "        2. Enter 2 to change pin\n",
    "        3. Enter 3 to check balance\n",
    "        4. Enter 4 to withdraw\n",
    "        5. Enter 5 to exit\n",
    "        \"\"\")\n",
    "        \n",
    "        if user_input == '1':\n",
    "            self.create_pin()\n",
    "        elif user_input == '2':\n",
    "            self.change_pin()\n",
    "        elif user_input == '3':\n",
    "            self.check_balance()\n",
    "        elif user_input == '4':\n",
    "            self.withdraw()\n",
    "        elif user_input == '5':\n",
    "            self.exit()\n",
    "        \n",
    "    def create_pin(self):\n",
    "        user_pin = input('Enter your pin: ')\n",
    "        self.pin = user_pin\n",
    "        \n",
    "        user_balance = int(input('Enter your balance: '))\n",
    "        self.balance = user_balance\n",
    "        \n",
    "        print(\"pin create successfully\")\n",
    "        self.menu()\n",
    "    \n",
    "    def change_pin(self):\n",
    "        old_pin = input('Enter old pin: ')\n",
    "        if old_pin == self.pin:\n",
    "            new_pin = input('Enter your new pin: ')\n",
    "            self.pin = new_pin\n",
    "            print('pin created successfully')\n",
    "            self.menu()\n",
    "        else:\n",
    "            print('old pin is invalid...try again')\n",
    "            self.menu()\n",
    "            \n",
    "    def check_balance(self):\n",
    "        user_pin = input('Enter your pin: ')\n",
    "        if user_pin == self.pin:\n",
    "            print('your balance is',self.balance)\n",
    "            self.menu()\n",
    "        else:\n",
    "            print('wrong pin')\n",
    "            self.menu()\n",
    "            \n",
    "    def withdraw(self):\n",
    "        user_pin = input('Enter your pin: ')\n",
    "        if user_pin == self.pin:\n",
    "            amount = int(input('Enter amount: '))\n",
    "            if amount > self.balance:\n",
    "                print(\"you don't have enough money\")\n",
    "                self.menu()\n",
    "            else:\n",
    "                self.balance = self.balance-amount\n",
    "                print('withdraw successfully')\n",
    "                self.menu()\n",
    "        else:\n",
    "            print('wrong pin')\n",
    "            self.menu()\n",
    "        \n",
    "    def exit(self):\n",
    "        print('Thank you :) ... visit again')  "
   ]
  },
  {
   "cell_type": "code",
   "execution_count": 34,
   "id": "239d5036-51e7-4def-9324-26b75321f941",
   "metadata": {},
   "outputs": [
    {
     "name": "stdin",
     "output_type": "stream",
     "text": [
      "\n",
      "        Hi How can i help you?\n",
      "        1. Enter 1 to create pin\n",
      "        2. Enter 2 to change pin\n",
      "        3. Enter 3 to check balance\n",
      "        4. Enter 4 to withdraw\n",
      "        5. Enter 5 to exit\n",
      "         5\n"
     ]
    },
    {
     "name": "stdout",
     "output_type": "stream",
     "text": [
      "Thank you :) ... visit again\n"
     ]
    }
   ],
   "source": [
    "obj = Atm()"
   ]
  },
  {
   "cell_type": "code",
   "execution_count": null,
   "id": "54b242f6",
   "metadata": {},
   "outputs": [],
   "source": []
  },
  {
   "cell_type": "markdown",
   "id": "ff2a4eb3",
   "metadata": {},
   "source": [
    "# Constructor\n",
    "A constructor is a special method in object-oriented programming (OOP) that is automatically called when an object is created. It is used to initialize the state of the object, usually by setting the initial values of the object's attributes or properties. It is defined using the __init__ method, and it is commonly used to perform tasks such as allocating memory for the object's attributes or setting default values for them."
   ]
  },
  {
   "cell_type": "code",
   "execution_count": 12,
   "id": "f61df5de",
   "metadata": {},
   "outputs": [
    {
     "name": "stdout",
     "output_type": "stream",
     "text": [
      "Inside phone constructor\n",
      "Buying a phone\n"
     ]
    }
   ],
   "source": [
    "class Phone:\n",
    "    def __init__(self, price, brand, camera):\n",
    "        print (\"Inside phone constructor\")\n",
    "        self.price = price\n",
    "        self.brand = brand\n",
    "        self.camera = camera\n",
    "\n",
    "    def buy(self):\n",
    "        print (\"Buying a phone\")\n",
    "\n",
    "class SmartPhone(Phone):\n",
    "    pass\n",
    "\n",
    "s=SmartPhone(20000, \"Apple\", 13)\n",
    "s.buy()"
   ]
  },
  {
   "cell_type": "code",
   "execution_count": null,
   "id": "db79b173",
   "metadata": {},
   "outputs": [],
   "source": []
  },
  {
   "cell_type": "markdown",
   "id": "59b6a54a",
   "metadata": {},
   "source": [
    "# Inheritance\n",
    "Inheritance allows a new class to inherit the properties and methods of an existing class. The new class is called a subclass or derived class, and the existing class is called the superclass or base class. Inheritance allows for code reuse and helps to create a more organized and maintainable codebase.\n",
    "\n",
    "For example, let's say we have a class called \"Animal\" with a method called speak(). We can create a new class called \"Dog\" that inherits from the \"Animals\" class, and the \"Dog\" class can also have its own method bark()."
   ]
  },
  {
   "cell_type": "code",
   "execution_count": 5,
   "id": "d070a475",
   "metadata": {},
   "outputs": [
    {
     "name": "stdout",
     "output_type": "stream",
     "text": [
      "Animal can speak.\n",
      "Dogs can bark.\n"
     ]
    }
   ],
   "source": [
    "class Animals:\n",
    "    def speak(self):\n",
    "        print(\"Animal can speak.\")\n",
    "        \n",
    "class Dog(Animals):\n",
    "    def bark(self):\n",
    "        print(\"Dogs can bark.\")\n",
    "        \n",
    "dog = Dog()\n",
    "dog.speak() # Output: \"Animals can speak.\"\n",
    "dog.bark() # Output: \"Dogs can bark.\""
   ]
  },
  {
   "cell_type": "markdown",
   "id": "73563c94",
   "metadata": {},
   "source": [
    "In this example, the class Dog is a subclass of the class Animals, and it has inherited the speak() method from the Animals class."
   ]
  },
  {
   "cell_type": "code",
   "execution_count": null,
   "id": "8afa1cf2",
   "metadata": {},
   "outputs": [],
   "source": []
  },
  {
   "cell_type": "markdown",
   "id": "69951758",
   "metadata": {},
   "source": [
    "# Method Overriding\n",
    "For example, let's say we have a class called \"Animals\" with a method called speak(). We can create a new class called \"Dog\" that inherits from the \"Animals\" class, and the \"Dog\" class can also have its own method speak()."
   ]
  },
  {
   "cell_type": "code",
   "execution_count": 15,
   "id": "f99a2629",
   "metadata": {},
   "outputs": [
    {
     "name": "stdout",
     "output_type": "stream",
     "text": [
      "Dogs can bark.\n"
     ]
    }
   ],
   "source": [
    "class Animals:\n",
    "    def speak(self):\n",
    "        print(\"Animals can speak.\")\n",
    "\n",
    "class Dog(Animals):\n",
    "    def speak(self):\n",
    "        print(\"Dogs can bark.\")\n",
    "\n",
    "dog = Dog()\n",
    "dog.speak()"
   ]
  },
  {
   "cell_type": "code",
   "execution_count": null,
   "id": "59f567dc",
   "metadata": {},
   "outputs": [],
   "source": []
  },
  {
   "cell_type": "markdown",
   "id": "b88fbb5f",
   "metadata": {},
   "source": [
    "# Super() function\n",
    "In object-oriented programming (OOP), the super() function is used to call a method from the parent class within a subclass. It is commonly used when overriding a method in a subclass to call the implementation of the method in the parent class.\n",
    "\n",
    "For example, let's say we have a class called \"Animals\" with a method called speak(). We can create a new class called \"Dog\" that inherits from the \"Animals\" class, and the \"Dog\" class can also have its own method speak()."
   ]
  },
  {
   "cell_type": "code",
   "execution_count": 13,
   "id": "989b112e",
   "metadata": {},
   "outputs": [
    {
     "name": "stdout",
     "output_type": "stream",
     "text": [
      "Animals can speak.\n",
      "Dogs can bark.\n"
     ]
    }
   ],
   "source": [
    "class Animals:\n",
    "    def speak(self):\n",
    "        print(\"Animals can speak.\")\n",
    "\n",
    "class Dog(Animals):\n",
    "    def speak(self):\n",
    "        super().speak()\n",
    "        print(\"Dogs can bark.\")\n",
    "        \n",
    "dog = Dog()\n",
    "dog.speak()"
   ]
  },
  {
   "cell_type": "code",
   "execution_count": 14,
   "id": "bc6538da",
   "metadata": {},
   "outputs": [
    {
     "name": "stdout",
     "output_type": "stream",
     "text": [
      "Inside phone constructor\n",
      "Buying a smartphone\n",
      "Buying a phone\n"
     ]
    }
   ],
   "source": [
    "class Phone:\n",
    "    def __init__(self, price, brand, camera):\n",
    "        print (\"Inside phone constructor\")\n",
    "        self.__price = price\n",
    "        self.brand = brand\n",
    "        self.camera = camera\n",
    "\n",
    "    def buy(self):\n",
    "        print (\"Buying a phone\")\n",
    "\n",
    "class SmartPhone(Phone):\n",
    "    def buy(self):\n",
    "        print (\"Buying a smartphone\")\n",
    "        # syntax to call parent's buy() method\n",
    "        super().buy()\n",
    "\n",
    "s=SmartPhone(20000, \"Apple\", 13)\n",
    "s.buy()"
   ]
  },
  {
   "cell_type": "markdown",
   "id": "285021f2",
   "metadata": {},
   "source": [
    "### super -> constuctor"
   ]
  },
  {
   "cell_type": "code",
   "execution_count": 16,
   "id": "b4cc870f",
   "metadata": {},
   "outputs": [
    {
     "name": "stdout",
     "output_type": "stream",
     "text": [
      "Inside smartphone constructor\n",
      "Inside phone constructor\n",
      "Inside smartphone constructor\n",
      "Android\n",
      "Samsung\n"
     ]
    }
   ],
   "source": [
    "class Phone:\n",
    "    def __init__(self, price, brand, camera):\n",
    "        print (\"Inside phone constructor\")\n",
    "        self.__price = price\n",
    "        self.brand = brand\n",
    "        self.camera = camera\n",
    "\n",
    "class SmartPhone(Phone):\n",
    "    def __init__(self, price, brand, camera, os, ram):\n",
    "        print('Inside smartphone constructor')\n",
    "        super().__init__(price, brand, camera)\n",
    "        self.os = os\n",
    "        self.ram = ram\n",
    "        print (\"Inside smartphone constructor\")\n",
    "\n",
    "s=SmartPhone(20000, \"Samsung\", 12, \"Android\", 2)\n",
    "\n",
    "print(s.os)\n",
    "print(s.brand)"
   ]
  },
  {
   "cell_type": "code",
   "execution_count": null,
   "id": "e1d45022",
   "metadata": {},
   "outputs": [],
   "source": []
  },
  {
   "cell_type": "markdown",
   "id": "9df6013a",
   "metadata": {},
   "source": [
    "# Polymorphism\n",
    "Polymorphism is the ability of an object to take on many forms. The most common use of polymorphism in OOP occurs when a parent class reference is used to refer to a child class object. The key idea behind polymorphism is that, at runtime, the program can determine the appropriate method to call based on the actual type of the object that the reference refers to.\n",
    "\n",
    "For example, let's say we have two classes Dog and Cat which both have a method speak()."
   ]
  },
  {
   "cell_type": "code",
   "execution_count": 6,
   "id": "511b85bd",
   "metadata": {},
   "outputs": [
    {
     "name": "stdout",
     "output_type": "stream",
     "text": [
      "Woof\n",
      "Meow\n"
     ]
    }
   ],
   "source": [
    "class Dog:\n",
    "    def speak(self):\n",
    "        return \"Woof\"\n",
    "    \n",
    "class Cat:\n",
    "    def speak(self):\n",
    "        return \"Meow\"\n",
    "    \n",
    "def animal_speak(animal):\n",
    "    print(animal.speak())\n",
    "    \n",
    "dog = Dog()\n",
    "cat = Cat()\n",
    "\n",
    "animal_speak(dog) # Output: \"Woof\"\n",
    "animal_speak(cat) # Output: \"Meow\""
   ]
  },
  {
   "cell_type": "markdown",
   "id": "1e141dca",
   "metadata": {},
   "source": [
    "The function animal_speak() accepts any object that has a method called speak(), regardless of the actual type of the object. The function is able to handle different types of objects polymorphically because the speak() method is defined in each class.\n",
    "\n",
    "In this example, the function animal_speak() is polymorphic, it can handle different types of objects which have the same method speak() and it will call the appropriate method based on the actual type of the object passed to it at runtime."
   ]
  },
  {
   "cell_type": "code",
   "execution_count": null,
   "id": "518c3b17",
   "metadata": {},
   "outputs": [],
   "source": []
  },
  {
   "cell_type": "markdown",
   "id": "f2c59dcd",
   "metadata": {},
   "source": [
    "# Encapsulation\n",
    "Encapsulation is a concept in object-oriented programming (OOP) that refers to the practice of hiding the internal state and implementation details of an object from the outside world.\n",
    "\n",
    "For example, let's say we have a class called \"Car\" with member variables to represent the make, model, and year of the car. We can encapsulate the member variables by making them private and only providing public methods to access and modify them."
   ]
  },
  {
   "cell_type": "code",
   "execution_count": 8,
   "id": "4248f250",
   "metadata": {},
   "outputs": [
    {
     "name": "stdout",
     "output_type": "stream",
     "text": [
      "Toyota\n",
      "Honda\n"
     ]
    }
   ],
   "source": [
    "class Car:\n",
    "    def __init__(self, make, model, year):\n",
    "        self.__make = make\n",
    "        self.__model = model\n",
    "        self.__year = year\n",
    "        \n",
    "    def get_make(self):\n",
    "        return self.__make\n",
    "    \n",
    "    def get_model(self):\n",
    "        return self.__model\n",
    "    \n",
    "    def get_year(self):\n",
    "        return self.__year\n",
    "    \n",
    "    def set_make(self, make):\n",
    "        self.__make = make\n",
    "        \n",
    "    def set_model(self, model):\n",
    "        self.__model = model\n",
    "        \n",
    "    def set_year(self, year):\n",
    "        self.__year = year\n",
    "\n",
    "car = Car(\"Toyota\", \"Camry\", 2020)\n",
    "print(car.get_make()) # Output: \"Toyota\"\n",
    "car.set_make(\"Honda\")\n",
    "print(car.get_make()) # Output: \"Honda\""
   ]
  },
  {
   "cell_type": "markdown",
   "id": "92683abd",
   "metadata": {},
   "source": [
    "In this example, the member variables __make, __model and __year are encapsulated, they can only be accessed or modified by the methods **get_make(), get_model(), get_year(), set_make(), set_model(), and set_year().** This way, the member variables of the car can only be changed through the provided methods, rather than directly accessing the variable, which helps ensure that the variables are always in a consistent state and prevent external code from modifying them accidentally or intentionally."
   ]
  },
  {
   "cell_type": "code",
   "execution_count": null,
   "id": "e053f67a",
   "metadata": {},
   "outputs": [],
   "source": []
  },
  {
   "cell_type": "markdown",
   "id": "dbf6b5ce",
   "metadata": {},
   "source": [
    "# Static variable\n",
    "Static variable is a variable that belongs to a class rather than an instance of the class. It is defined using the static keyword, and it can be accessed using the class name, rather than an instance of the class. The value of a static variable is shared among all instances of the class, and it remains the same across all instances.\n",
    "\n",
    "For example, let's say we have a class called \"Counter\" with a static variable count to keep track of the number of instances of the class."
   ]
  },
  {
   "cell_type": "code",
   "execution_count": 9,
   "id": "86cf6843",
   "metadata": {},
   "outputs": [
    {
     "name": "stdout",
     "output_type": "stream",
     "text": [
      "3\n"
     ]
    }
   ],
   "source": [
    "class Counter:\n",
    "    count = 0\n",
    "    def __init__(self):\n",
    "        Counter.count +=1\n",
    "        \n",
    "c1 = Counter()\n",
    "c2 = Counter()\n",
    "c3 = Counter()\n",
    "print(Counter.count) # Output: 3"
   ]
  },
  {
   "cell_type": "markdown",
   "id": "4bd50131",
   "metadata": {},
   "source": []
  },
  {
   "cell_type": "markdown",
   "id": "c78e8981",
   "metadata": {},
   "source": [
    "# Static method\n",
    "Static method is a method that belongs to a class rather than an instance of the class. It is defined using the @staticmethod decorator, and it can be called on the class itself, rather than on an instance of the class. Static methods are typically used for utility functions that don't need to access any state on the class or its instances.\n",
    "\n",
    "For example, let's say we have a class called \"Math\" with a static method add() to perform addition of two numbers."
   ]
  },
  {
   "cell_type": "code",
   "execution_count": 10,
   "id": "c045ad2a",
   "metadata": {},
   "outputs": [
    {
     "name": "stdout",
     "output_type": "stream",
     "text": [
      "8\n"
     ]
    }
   ],
   "source": [
    "class Math:\n",
    "    @staticmethod\n",
    "    def add(x, y):\n",
    "        return x + y\n",
    "\n",
    "result = Math.add(5, 3)\n",
    "print(result) # Output: 8"
   ]
  },
  {
   "cell_type": "markdown",
   "id": "dc4002b5",
   "metadata": {},
   "source": [
    "In this example, the method add() is a static method, it does not have access to the class or instance variables, it just performs a simple operation and returns the result. It can be called on the class Math itself, rather than on an instance of the class."
   ]
  },
  {
   "cell_type": "code",
   "execution_count": 11,
   "id": "7fa79e40",
   "metadata": {},
   "outputs": [
    {
     "name": "stdout",
     "output_type": "stream",
     "text": [
      "Max\n",
      "Woof woof!\n",
      "Woof woof!\n"
     ]
    }
   ],
   "source": [
    "# Example of static method\n",
    "\n",
    "class Dog:\n",
    "    def __init__(self, name, age):\n",
    "        self.name = name\n",
    "        self.age = age\n",
    "        \n",
    "    def bark(self):\n",
    "        print(\"Woof woof!\")\n",
    "        \n",
    "    def get_name(self):\n",
    "        return self.name\n",
    "    \n",
    "    def get_age(self):\n",
    "        return self.age\n",
    "    \n",
    "    @staticmethod\n",
    "    def make_sound():\n",
    "        print(\"Woof woof!\")\n",
    "\n",
    "dog1 = Dog(\"Max\", 5)\n",
    "\n",
    "print(dog1.get_name()) # Output: \"Max\"\n",
    "dog1.bark() # Output: \"Woof woof!\"\n",
    "Dog.make_sound() # Output: \"Woof woof!\""
   ]
  },
  {
   "cell_type": "markdown",
   "id": "94e5d215",
   "metadata": {},
   "source": [
    "In this code, I have added a static method make_sound() to the Dog class. This method doesn't have any access to the instance or class variables, but it can be called both by the class and its instances.\n",
    "\n",
    "You can see that the instance method bark() and the static method make_sound() are used to produce the same output."
   ]
  },
  {
   "cell_type": "code",
   "execution_count": null,
   "id": "472be86a",
   "metadata": {},
   "outputs": [],
   "source": []
  }
 ],
 "metadata": {
  "kernelspec": {
   "display_name": "Python 3 (ipykernel)",
   "language": "python",
   "name": "python3"
  },
  "language_info": {
   "codemirror_mode": {
    "name": "ipython",
    "version": 3
   },
   "file_extension": ".py",
   "mimetype": "text/x-python",
   "name": "python",
   "nbconvert_exporter": "python",
   "pygments_lexer": "ipython3",
   "version": "3.9.12"
  }
 },
 "nbformat": 4,
 "nbformat_minor": 5
}
